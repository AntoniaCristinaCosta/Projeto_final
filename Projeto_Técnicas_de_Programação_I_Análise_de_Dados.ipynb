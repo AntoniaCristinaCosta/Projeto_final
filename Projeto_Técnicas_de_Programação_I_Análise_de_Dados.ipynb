{
  "cells": [
    {
      "cell_type": "markdown",
      "metadata": {
        "id": "OwnjctYVYDiH"
      },
      "source": [
        "## Análise de Dados - Cursos plataforma de ensino *online*\n",
        "\n",
        "A análise de dados é uma ferramenta essencial para impulsionar os negócios de uma empresa, e consequentemente, agregar valor.\n",
        "<br>\n",
        "<br>\n",
        "Um dos profissionais necessários para a geração de valor para empresas, é o cientista/analista de dados. Este profissional é capaz de retirar insights de diversas fontes de dados.\n",
        "<br>\n",
        "<br>\n",
        "Dito tudo isso, você, como cientista/analista de dados recebeu a missão de analisar dados de uma empresa ensino online de tecnologia. Seu principal objetivo, é através dos dados (disponibilizados na <a href=\"https://drive.google.com/file/d/1PE-9PTK5twBuUOuuKAk3Oo02Is8Dr8q-/view?usp=share_link\">pasta compartilhada</a> deste módulo), é o de responder algumas perguntas de negócios para auxiliar a empresa a aprimorar os seus serviços e produtos.\n",
        "<br>\n",
        "<br>\n",
        "Detalhes da base de dados podem ser vistos na plataforma Kaggle pelo <a href=\"https://www.kaggle.com/datasets/thedevastator/udemy-courses-revenue-generation-and-course-anal\">link</a>\n",
        "<br>\n",
        "<br>\n",
        "Para isso, use os conhecimentos obtidos neste módulo (e anteriores) para responder as seguintes questões:\n",
        "\n",
        "**Dicas:**\n",
        "\n",
        "- Serão três diferentes bases de dados disponibilizadas na pasta do módulo, separadas por assunto (curso). Porém, todas elas contêm o mesmo cabeçalho. Logo, para que consiga responder as perguntas abaixo, unifique-as em um único **DataFrame** do pandas, e realize as análises.\n",
        "- Não é necessário criar gráficos/visualizações para apresentar os resultados de cada pergunta. Porém, se você estiver confortável para criá-los quando necessário, fique à vontade."
      ]
    },
    {
      "cell_type": "markdown",
      "metadata": {
        "id": "CAutWLQXtZm1"
      },
      "source": [
        "### Perguntas a serem respondidas a partir dos dados."
      ]
    },
    {
      "cell_type": "markdown",
      "metadata": {
        "id": "LxbUDG_aoEJX"
      },
      "source": [
        "1. Quantos cursos estão disponíveis na plataforma?"
      ]
    },
    {
      "cell_type": "code",
      "execution_count": 2,
      "metadata": {
        "id": "JVc3skEVoPr8"
      },
      "outputs": [],
      "source": [
        "import pandas as pd\n",
        "planilha_1 = pd.read_csv(r\"C:\\Users\\Cristina\\Documents\\Aulas\\Projeto\\3.1-data-sheet-udemy-courses-business-courses.csv\")\n",
        "planilha_2 = pd.read_csv(r\"C:\\Users\\Cristina\\Documents\\Aulas\\Projeto\\3.1-data-sheet-udemy-courses-design-courses.csv\")\n",
        "planilha_3 = pd.read_csv(r\"C:\\Users\\Cristina\\Documents\\Aulas\\Projeto\\3.1-data-sheet-udemy-courses-music-courses.csv\")\n",
        "planilha_4 = pd.read_csv(r\"C:\\Users\\Cristina\\Documents\\Aulas\\Projeto\\3.1-data-sheet-udemy-courses-web-development.csv\")\n",
        "\n",
        "cursos = pd.concat([planilha_1, planilha_2, planilha_3, planilha_4], axis=0, ignore_index=True, verify_integrity=True)\n"
      ]
    },
    {
      "cell_type": "code",
      "execution_count": 3,
      "metadata": {},
      "outputs": [
        {
          "data": {
            "text/html": [
              "<div>\n",
              "<style scoped>\n",
              "    .dataframe tbody tr th:only-of-type {\n",
              "        vertical-align: middle;\n",
              "    }\n",
              "\n",
              "    .dataframe tbody tr th {\n",
              "        vertical-align: top;\n",
              "    }\n",
              "\n",
              "    .dataframe thead th {\n",
              "        text-align: right;\n",
              "    }\n",
              "</style>\n",
              "<table border=\"1\" class=\"dataframe\">\n",
              "  <thead>\n",
              "    <tr style=\"text-align: right;\">\n",
              "      <th></th>\n",
              "      <th>course_id</th>\n",
              "      <th>course_title</th>\n",
              "      <th>url</th>\n",
              "      <th>price</th>\n",
              "      <th>num_subscribers</th>\n",
              "      <th>num_reviews</th>\n",
              "      <th>num_lectures</th>\n",
              "      <th>level</th>\n",
              "      <th>Rating</th>\n",
              "      <th>content_duration</th>\n",
              "      <th>published_timestamp</th>\n",
              "      <th>subject</th>\n",
              "    </tr>\n",
              "  </thead>\n",
              "  <tbody>\n",
              "    <tr>\n",
              "      <th>0</th>\n",
              "      <td>49798.0</td>\n",
              "      <td>Bitcoin or How I Learned to Stop Worrying and ...</td>\n",
              "      <td>https://www.udemy.com/bitcoin-or-how-i-learned...</td>\n",
              "      <td>0.0</td>\n",
              "      <td>65576.0</td>\n",
              "      <td>936.0</td>\n",
              "      <td>24.0</td>\n",
              "      <td>All Levels</td>\n",
              "      <td>0.56</td>\n",
              "      <td>8.0</td>\n",
              "      <td>2013-04-20T02:25:22Z</td>\n",
              "      <td>Business Finance</td>\n",
              "    </tr>\n",
              "    <tr>\n",
              "      <th>1</th>\n",
              "      <td>48841.0</td>\n",
              "      <td>Accounting in 60 Minutes - A Brief Introduction</td>\n",
              "      <td>https://www.udemy.com/accounting-in-60-minutes...</td>\n",
              "      <td>0.0</td>\n",
              "      <td>56659.0</td>\n",
              "      <td>4397.0</td>\n",
              "      <td>16.0</td>\n",
              "      <td>Beginner Level</td>\n",
              "      <td>0.95</td>\n",
              "      <td>1.5</td>\n",
              "      <td>2013-04-07T21:39:25Z</td>\n",
              "      <td>Business Finance</td>\n",
              "    </tr>\n",
              "    <tr>\n",
              "      <th>2</th>\n",
              "      <td>133536.0</td>\n",
              "      <td>Stock Market Investing for Beginners</td>\n",
              "      <td>https://www.udemy.com/the-beginners-guide-to-t...</td>\n",
              "      <td>0.0</td>\n",
              "      <td>50855.0</td>\n",
              "      <td>2698.0</td>\n",
              "      <td>15.0</td>\n",
              "      <td>All Levels</td>\n",
              "      <td>0.91</td>\n",
              "      <td>1.5</td>\n",
              "      <td>2013-12-25T19:53:34Z</td>\n",
              "      <td>Business Finance</td>\n",
              "    </tr>\n",
              "    <tr>\n",
              "      <th>3</th>\n",
              "      <td>151668.0</td>\n",
              "      <td>Introduction to Financial Modeling</td>\n",
              "      <td>https://www.udemy.com/financial-modeling-asimp...</td>\n",
              "      <td>0.0</td>\n",
              "      <td>29167.0</td>\n",
              "      <td>1463.0</td>\n",
              "      <td>8.0</td>\n",
              "      <td>All Levels</td>\n",
              "      <td>0.18</td>\n",
              "      <td>1.5</td>\n",
              "      <td>2014-05-27T16:22:16Z</td>\n",
              "      <td>Business Finance</td>\n",
              "    </tr>\n",
              "    <tr>\n",
              "      <th>4</th>\n",
              "      <td>648826.0</td>\n",
              "      <td>The Complete Financial Analyst Course 2017</td>\n",
              "      <td>https://www.udemy.com/the-complete-financial-a...</td>\n",
              "      <td>195.0</td>\n",
              "      <td>24481.0</td>\n",
              "      <td>2347.0</td>\n",
              "      <td>174.0</td>\n",
              "      <td>All Levels</td>\n",
              "      <td>0.37</td>\n",
              "      <td>10.0</td>\n",
              "      <td>2016-01-21T01:38:48Z</td>\n",
              "      <td>Business Finance</td>\n",
              "    </tr>\n",
              "    <tr>\n",
              "      <th>...</th>\n",
              "      <td>...</td>\n",
              "      <td>...</td>\n",
              "      <td>...</td>\n",
              "      <td>...</td>\n",
              "      <td>...</td>\n",
              "      <td>...</td>\n",
              "      <td>...</td>\n",
              "      <td>...</td>\n",
              "      <td>...</td>\n",
              "      <td>...</td>\n",
              "      <td>...</td>\n",
              "      <td>...</td>\n",
              "    </tr>\n",
              "    <tr>\n",
              "      <th>3676</th>\n",
              "      <td>1227578.0</td>\n",
              "      <td>Learning Path: The Road to Elasticsearch</td>\n",
              "      <td>https://www.udemy.com/learning-path-the-road-t...</td>\n",
              "      <td>200.0</td>\n",
              "      <td>50.0</td>\n",
              "      <td>5.0</td>\n",
              "      <td>60.0</td>\n",
              "      <td>Beginner Level</td>\n",
              "      <td>0.96</td>\n",
              "      <td>5.0</td>\n",
              "      <td>2017-05-29T17:56:24Z</td>\n",
              "      <td>Subject: Web Development</td>\n",
              "    </tr>\n",
              "    <tr>\n",
              "      <th>3677</th>\n",
              "      <td>1277924.0</td>\n",
              "      <td>Angular 4 Front To Back</td>\n",
              "      <td>https://www.udemy.com/angular-4-front-to-back/</td>\n",
              "      <td>40.0</td>\n",
              "      <td>44.0</td>\n",
              "      <td>0.0</td>\n",
              "      <td>68.0</td>\n",
              "      <td>All Levels</td>\n",
              "      <td>0.15</td>\n",
              "      <td>8.5</td>\n",
              "      <td>2017-07-06T15:04:55Z</td>\n",
              "      <td>Subject: Web Development</td>\n",
              "    </tr>\n",
              "    <tr>\n",
              "      <th>3678</th>\n",
              "      <td>1248172.0</td>\n",
              "      <td>Essentials of Spring 5.0 for Developers</td>\n",
              "      <td>https://www.udemy.com/essentials-of-spring-50-...</td>\n",
              "      <td>125.0</td>\n",
              "      <td>34.0</td>\n",
              "      <td>2.0</td>\n",
              "      <td>21.0</td>\n",
              "      <td>Beginner Level</td>\n",
              "      <td>0.46</td>\n",
              "      <td>1.5</td>\n",
              "      <td>2017-06-11T18:34:40Z</td>\n",
              "      <td>Subject: Web Development</td>\n",
              "    </tr>\n",
              "    <tr>\n",
              "      <th>3679</th>\n",
              "      <td>1250934.0</td>\n",
              "      <td>Display and analyze GIS data on the web with L...</td>\n",
              "      <td>https://www.udemy.com/display-and-analyze-gis-...</td>\n",
              "      <td>100.0</td>\n",
              "      <td>25.0</td>\n",
              "      <td>4.0</td>\n",
              "      <td>66.0</td>\n",
              "      <td>Beginner Level</td>\n",
              "      <td>0.67</td>\n",
              "      <td>12.5</td>\n",
              "      <td>2017-06-15T21:17:43Z</td>\n",
              "      <td>Subject: Web Development</td>\n",
              "    </tr>\n",
              "    <tr>\n",
              "      <th>3680</th>\n",
              "      <td>1270222.0</td>\n",
              "      <td>Learning Path: Web Applications with Spring an...</td>\n",
              "      <td>https://www.udemy.com/learning-path-web-applic...</td>\n",
              "      <td>200.0</td>\n",
              "      <td>19.0</td>\n",
              "      <td>2.0</td>\n",
              "      <td>33.0</td>\n",
              "      <td>Beginner Level</td>\n",
              "      <td>0.12</td>\n",
              "      <td>4.0</td>\n",
              "      <td>2017-06-28T21:04:21Z</td>\n",
              "      <td>Subject: Web Development</td>\n",
              "    </tr>\n",
              "  </tbody>\n",
              "</table>\n",
              "<p>3681 rows × 12 columns</p>\n",
              "</div>"
            ],
            "text/plain": [
              "      course_id                                       course_title  \\\n",
              "0       49798.0  Bitcoin or How I Learned to Stop Worrying and ...   \n",
              "1       48841.0    Accounting in 60 Minutes - A Brief Introduction   \n",
              "2      133536.0               Stock Market Investing for Beginners   \n",
              "3      151668.0                 Introduction to Financial Modeling   \n",
              "4      648826.0         The Complete Financial Analyst Course 2017   \n",
              "...         ...                                                ...   \n",
              "3676  1227578.0           Learning Path: The Road to Elasticsearch   \n",
              "3677  1277924.0                            Angular 4 Front To Back   \n",
              "3678  1248172.0            Essentials of Spring 5.0 for Developers   \n",
              "3679  1250934.0  Display and analyze GIS data on the web with L...   \n",
              "3680  1270222.0  Learning Path: Web Applications with Spring an...   \n",
              "\n",
              "                                                    url  price  \\\n",
              "0     https://www.udemy.com/bitcoin-or-how-i-learned...    0.0   \n",
              "1     https://www.udemy.com/accounting-in-60-minutes...    0.0   \n",
              "2     https://www.udemy.com/the-beginners-guide-to-t...    0.0   \n",
              "3     https://www.udemy.com/financial-modeling-asimp...    0.0   \n",
              "4     https://www.udemy.com/the-complete-financial-a...  195.0   \n",
              "...                                                 ...    ...   \n",
              "3676  https://www.udemy.com/learning-path-the-road-t...  200.0   \n",
              "3677     https://www.udemy.com/angular-4-front-to-back/   40.0   \n",
              "3678  https://www.udemy.com/essentials-of-spring-50-...  125.0   \n",
              "3679  https://www.udemy.com/display-and-analyze-gis-...  100.0   \n",
              "3680  https://www.udemy.com/learning-path-web-applic...  200.0   \n",
              "\n",
              "      num_subscribers  num_reviews  num_lectures           level  Rating  \\\n",
              "0             65576.0        936.0          24.0      All Levels    0.56   \n",
              "1             56659.0       4397.0          16.0  Beginner Level    0.95   \n",
              "2             50855.0       2698.0          15.0      All Levels    0.91   \n",
              "3             29167.0       1463.0           8.0      All Levels    0.18   \n",
              "4             24481.0       2347.0         174.0      All Levels    0.37   \n",
              "...               ...          ...           ...             ...     ...   \n",
              "3676             50.0          5.0          60.0  Beginner Level    0.96   \n",
              "3677             44.0          0.0          68.0      All Levels    0.15   \n",
              "3678             34.0          2.0          21.0  Beginner Level    0.46   \n",
              "3679             25.0          4.0          66.0  Beginner Level    0.67   \n",
              "3680             19.0          2.0          33.0  Beginner Level    0.12   \n",
              "\n",
              "      content_duration   published_timestamp                   subject  \n",
              "0                  8.0  2013-04-20T02:25:22Z          Business Finance  \n",
              "1                  1.5  2013-04-07T21:39:25Z          Business Finance  \n",
              "2                  1.5  2013-12-25T19:53:34Z          Business Finance  \n",
              "3                  1.5  2014-05-27T16:22:16Z          Business Finance  \n",
              "4                 10.0  2016-01-21T01:38:48Z          Business Finance  \n",
              "...                ...                   ...                       ...  \n",
              "3676               5.0  2017-05-29T17:56:24Z  Subject: Web Development  \n",
              "3677               8.5  2017-07-06T15:04:55Z  Subject: Web Development  \n",
              "3678               1.5  2017-06-11T18:34:40Z  Subject: Web Development  \n",
              "3679              12.5  2017-06-15T21:17:43Z  Subject: Web Development  \n",
              "3680               4.0  2017-06-28T21:04:21Z  Subject: Web Development  \n",
              "\n",
              "[3681 rows x 12 columns]"
            ]
          },
          "execution_count": 3,
          "metadata": {},
          "output_type": "execute_result"
        }
      ],
      "source": [
        "cursos"
      ]
    },
    {
      "cell_type": "code",
      "execution_count": 4,
      "metadata": {},
      "outputs": [
        {
          "name": "stdout",
          "output_type": "stream",
          "text": [
            "<class 'pandas.core.frame.DataFrame'>\n",
            "RangeIndex: 3681 entries, 0 to 3680\n",
            "Data columns (total 12 columns):\n",
            " #   Column               Non-Null Count  Dtype  \n",
            "---  ------               --------------  -----  \n",
            " 0   course_id            3676 non-null   float64\n",
            " 1   course_title         3676 non-null   object \n",
            " 2   url                  3676 non-null   object \n",
            " 3   price                3676 non-null   float64\n",
            " 4   num_subscribers      3676 non-null   float64\n",
            " 5   num_reviews          3676 non-null   float64\n",
            " 6   num_lectures         3676 non-null   float64\n",
            " 7   level                3676 non-null   object \n",
            " 8   Rating               3677 non-null   float64\n",
            " 9   content_duration     3676 non-null   float64\n",
            " 10  published_timestamp  3676 non-null   object \n",
            " 11  subject              3677 non-null   object \n",
            "dtypes: float64(7), object(5)\n",
            "memory usage: 345.2+ KB\n"
          ]
        }
      ],
      "source": [
        "cursos.info()\n"
      ]
    },
    {
      "cell_type": "code",
      "execution_count": 26,
      "metadata": {},
      "outputs": [
        {
          "data": {
            "text/plain": [
              "3681"
            ]
          },
          "execution_count": 26,
          "metadata": {},
          "output_type": "execute_result"
        }
      ],
      "source": [
        "len(cursos['course_title'])"
      ]
    },
    {
      "cell_type": "markdown",
      "metadata": {
        "id": "eFKSLDeyoQCF"
      },
      "source": [
        "2. Quais e quantos são os cursos que abordam o assunto: JavaScript?"
      ]
    },
    {
      "cell_type": "code",
      "execution_count": 5,
      "metadata": {
        "id": "z1cLUiw8okVI"
      },
      "outputs": [],
      "source": [
        "cursos[\"course_title\"]= cursos[\"course_title\"].str.lower()\n"
      ]
    },
    {
      "cell_type": "code",
      "execution_count": 9,
      "metadata": {},
      "outputs": [],
      "source": [
        "cursos.fillna({\"course_title\": \"vazio\"}, inplace=True)"
      ]
    },
    {
      "cell_type": "code",
      "execution_count": 10,
      "metadata": {},
      "outputs": [
        {
          "data": {
            "text/plain": [
              "137"
            ]
          },
          "execution_count": 10,
          "metadata": {},
          "output_type": "execute_result"
        }
      ],
      "source": [
        "cursos[cursos[\"course_title\"].str.contains(\"javascript\")].shape[0]"
      ]
    },
    {
      "cell_type": "markdown",
      "metadata": {
        "id": "G4cUox4RooOk"
      },
      "source": [
        "3. Qual é o preço médio (coluna *price*) dos cursos oferecidos na plataforma?"
      ]
    },
    {
      "cell_type": "code",
      "execution_count": 37,
      "metadata": {
        "id": "FKOIIjcVo3xg"
      },
      "outputs": [
        {
          "data": {
            "text/plain": [
              "66.11534276387377"
            ]
          },
          "execution_count": 37,
          "metadata": {},
          "output_type": "execute_result"
        }
      ],
      "source": [
        "cursos[\"price\"].mean()"
      ]
    },
    {
      "cell_type": "code",
      "execution_count": 11,
      "metadata": {},
      "outputs": [
        {
          "data": {
            "text/plain": [
              "66.12"
            ]
          },
          "execution_count": 11,
          "metadata": {},
          "output_type": "execute_result"
        }
      ],
      "source": [
        "cursos['price'].mean().round(2)"
      ]
    },
    {
      "cell_type": "code",
      "execution_count": 38,
      "metadata": {},
      "outputs": [
        {
          "data": {
            "text/plain": [
              "count    3676.000000\n",
              "mean       66.115343\n",
              "std        61.056073\n",
              "min         0.000000\n",
              "25%        20.000000\n",
              "50%        45.000000\n",
              "75%        95.000000\n",
              "max       200.000000\n",
              "Name: price, dtype: float64"
            ]
          },
          "execution_count": 38,
          "metadata": {},
          "output_type": "execute_result"
        }
      ],
      "source": [
        "cursos[\"price\"].describe()"
      ]
    },
    {
      "cell_type": "markdown",
      "metadata": {
        "id": "e-zGn_o0o2go"
      },
      "source": [
        "4. Quais são os cinco cursos com maior número de inscritos (coluna *num_subscribers*)?"
      ]
    },
    {
      "cell_type": "code",
      "execution_count": 14,
      "metadata": {
        "id": "ewd5ZmqcpFND"
      },
      "outputs": [
        {
          "data": {
            "text/plain": [
              "0       65576.0\n",
              "1       56659.0\n",
              "2       50855.0\n",
              "3       29167.0\n",
              "4       24481.0\n",
              "         ...   \n",
              "3676       50.0\n",
              "3677       44.0\n",
              "3678       34.0\n",
              "3679       25.0\n",
              "3680       19.0\n",
              "Name: num_subscribers, Length: 3681, dtype: float64"
            ]
          },
          "execution_count": 14,
          "metadata": {},
          "output_type": "execute_result"
        }
      ],
      "source": [
        "cursos['num_subscribers']"
      ]
    },
    {
      "cell_type": "code",
      "execution_count": 15,
      "metadata": {},
      "outputs": [
        {
          "data": {
            "text/html": [
              "<div>\n",
              "<style scoped>\n",
              "    .dataframe tbody tr th:only-of-type {\n",
              "        vertical-align: middle;\n",
              "    }\n",
              "\n",
              "    .dataframe tbody tr th {\n",
              "        vertical-align: top;\n",
              "    }\n",
              "\n",
              "    .dataframe thead th {\n",
              "        text-align: right;\n",
              "    }\n",
              "</style>\n",
              "<table border=\"1\" class=\"dataframe\">\n",
              "  <thead>\n",
              "    <tr style=\"text-align: right;\">\n",
              "      <th></th>\n",
              "      <th>course_title</th>\n",
              "      <th>num_subscribers</th>\n",
              "    </tr>\n",
              "  </thead>\n",
              "  <tbody>\n",
              "    <tr>\n",
              "      <th>2476</th>\n",
              "      <td>learn html5 programming from scratch</td>\n",
              "      <td>268923.0</td>\n",
              "    </tr>\n",
              "    <tr>\n",
              "      <th>2477</th>\n",
              "      <td>coding for entrepreneurs basic</td>\n",
              "      <td>161029.0</td>\n",
              "    </tr>\n",
              "    <tr>\n",
              "      <th>2478</th>\n",
              "      <td>the web developer bootcamp</td>\n",
              "      <td>121584.0</td>\n",
              "    </tr>\n",
              "    <tr>\n",
              "      <th>2479</th>\n",
              "      <td>build your first website in 1 week with html5 ...</td>\n",
              "      <td>120291.0</td>\n",
              "    </tr>\n",
              "    <tr>\n",
              "      <th>2480</th>\n",
              "      <td>the complete web developer course 2.0</td>\n",
              "      <td>114512.0</td>\n",
              "    </tr>\n",
              "  </tbody>\n",
              "</table>\n",
              "</div>"
            ],
            "text/plain": [
              "                                           course_title  num_subscribers\n",
              "2476               learn html5 programming from scratch         268923.0\n",
              "2477                     coding for entrepreneurs basic         161029.0\n",
              "2478                         the web developer bootcamp         121584.0\n",
              "2479  build your first website in 1 week with html5 ...         120291.0\n",
              "2480              the complete web developer course 2.0         114512.0"
            ]
          },
          "execution_count": 15,
          "metadata": {},
          "output_type": "execute_result"
        }
      ],
      "source": [
        "cursos.sort_values(\"num_subscribers\", ascending=False).head(5)[[\"course_title\", \"num_subscribers\"]]"
      ]
    },
    {
      "cell_type": "markdown",
      "metadata": {
        "id": "VIN541HgpEwf"
      },
      "source": [
        "5. Dos cinco cursos mais populares em termos de inscritos, mostre o **rate médio**, **máximo** e **mínimo** de cada um deles."
      ]
    },
    {
      "cell_type": "code",
      "execution_count": 82,
      "metadata": {
        "id": "OHt_xYF2pfb5"
      },
      "outputs": [
        {
          "data": {
            "text/html": [
              "<div>\n",
              "<style scoped>\n",
              "    .dataframe tbody tr th:only-of-type {\n",
              "        vertical-align: middle;\n",
              "    }\n",
              "\n",
              "    .dataframe tbody tr th {\n",
              "        vertical-align: top;\n",
              "    }\n",
              "\n",
              "    .dataframe thead th {\n",
              "        text-align: right;\n",
              "    }\n",
              "</style>\n",
              "<table border=\"1\" class=\"dataframe\">\n",
              "  <thead>\n",
              "    <tr style=\"text-align: right;\">\n",
              "      <th></th>\n",
              "      <th>Rating</th>\n",
              "    </tr>\n",
              "  </thead>\n",
              "  <tbody>\n",
              "    <tr>\n",
              "      <th>count</th>\n",
              "      <td>5.000000</td>\n",
              "    </tr>\n",
              "    <tr>\n",
              "      <th>mean</th>\n",
              "      <td>0.746000</td>\n",
              "    </tr>\n",
              "    <tr>\n",
              "      <th>std</th>\n",
              "      <td>0.131263</td>\n",
              "    </tr>\n",
              "    <tr>\n",
              "      <th>min</th>\n",
              "      <td>0.550000</td>\n",
              "    </tr>\n",
              "    <tr>\n",
              "      <th>25%</th>\n",
              "      <td>0.690000</td>\n",
              "    </tr>\n",
              "    <tr>\n",
              "      <th>50%</th>\n",
              "      <td>0.780000</td>\n",
              "    </tr>\n",
              "    <tr>\n",
              "      <th>75%</th>\n",
              "      <td>0.820000</td>\n",
              "    </tr>\n",
              "    <tr>\n",
              "      <th>max</th>\n",
              "      <td>0.890000</td>\n",
              "    </tr>\n",
              "  </tbody>\n",
              "</table>\n",
              "</div>"
            ],
            "text/plain": [
              "         Rating\n",
              "count  5.000000\n",
              "mean   0.746000\n",
              "std    0.131263\n",
              "min    0.550000\n",
              "25%    0.690000\n",
              "50%    0.780000\n",
              "75%    0.820000\n",
              "max    0.890000"
            ]
          },
          "execution_count": 82,
          "metadata": {},
          "output_type": "execute_result"
        }
      ],
      "source": [
        "cursos.sort_values(\"num_subscribers\", ascending=False).head(5)[[\"Rating\"]].describe()"
      ]
    },
    {
      "cell_type": "code",
      "execution_count": 83,
      "metadata": {},
      "outputs": [
        {
          "data": {
            "text/plain": [
              "Rating    0.746\n",
              "dtype: float64"
            ]
          },
          "execution_count": 83,
          "metadata": {},
          "output_type": "execute_result"
        }
      ],
      "source": [
        "cursos.sort_values(\"num_subscribers\", ascending=False).head(5)[[\"Rating\"]].mean()"
      ]
    },
    {
      "cell_type": "code",
      "execution_count": 84,
      "metadata": {},
      "outputs": [
        {
          "data": {
            "text/plain": [
              "Rating    0.89\n",
              "dtype: float64"
            ]
          },
          "execution_count": 84,
          "metadata": {},
          "output_type": "execute_result"
        }
      ],
      "source": [
        "cursos.sort_values(\"num_subscribers\", ascending=False).head(5)[[\"Rating\"]].max()"
      ]
    },
    {
      "cell_type": "code",
      "execution_count": 85,
      "metadata": {},
      "outputs": [
        {
          "data": {
            "text/plain": [
              "Rating    0.55\n",
              "dtype: float64"
            ]
          },
          "execution_count": 85,
          "metadata": {},
          "output_type": "execute_result"
        }
      ],
      "source": [
        "cursos.sort_values(\"num_subscribers\", ascending=False).head(5)[[\"Rating\"]].min()"
      ]
    },
    {
      "cell_type": "markdown",
      "metadata": {
        "id": "PBMQyyHTpZ1x"
      },
      "source": [
        "6. Apresente os dez cursos mais visualizados na plataforma."
      ]
    },
    {
      "cell_type": "code",
      "execution_count": 33,
      "metadata": {
        "id": "hX7kvC5OqYVt"
      },
      "outputs": [
        {
          "data": {
            "text/html": [
              "<div>\n",
              "<style scoped>\n",
              "    .dataframe tbody tr th:only-of-type {\n",
              "        vertical-align: middle;\n",
              "    }\n",
              "\n",
              "    .dataframe tbody tr th {\n",
              "        vertical-align: top;\n",
              "    }\n",
              "\n",
              "    .dataframe thead th {\n",
              "        text-align: right;\n",
              "    }\n",
              "</style>\n",
              "<table border=\"1\" class=\"dataframe\">\n",
              "  <thead>\n",
              "    <tr style=\"text-align: right;\">\n",
              "      <th></th>\n",
              "      <th>num_reviews</th>\n",
              "      <th>course_title</th>\n",
              "      <th>Rating</th>\n",
              "      <th>num_subscribers</th>\n",
              "    </tr>\n",
              "  </thead>\n",
              "  <tbody>\n",
              "    <tr>\n",
              "      <th>2478</th>\n",
              "      <td>27445.0</td>\n",
              "      <td>the web developer bootcamp</td>\n",
              "      <td>0.89</td>\n",
              "      <td>121584.0</td>\n",
              "    </tr>\n",
              "    <tr>\n",
              "      <th>2480</th>\n",
              "      <td>22412.0</td>\n",
              "      <td>the complete web developer course 2.0</td>\n",
              "      <td>0.55</td>\n",
              "      <td>114512.0</td>\n",
              "    </tr>\n",
              "    <tr>\n",
              "      <th>2485</th>\n",
              "      <td>19649.0</td>\n",
              "      <td>angular 4 (formerly angular 2) - the complete ...</td>\n",
              "      <td>0.90</td>\n",
              "      <td>73783.0</td>\n",
              "    </tr>\n",
              "    <tr>\n",
              "      <th>2484</th>\n",
              "      <td>16976.0</td>\n",
              "      <td>javascript: understanding the weird parts</td>\n",
              "      <td>0.69</td>\n",
              "      <td>79612.0</td>\n",
              "    </tr>\n",
              "    <tr>\n",
              "      <th>2497</th>\n",
              "      <td>15117.0</td>\n",
              "      <td>modern react with redux</td>\n",
              "      <td>0.62</td>\n",
              "      <td>50815.0</td>\n",
              "    </tr>\n",
              "    <tr>\n",
              "      <th>2492</th>\n",
              "      <td>11580.0</td>\n",
              "      <td>learn and understand angularjs</td>\n",
              "      <td>0.87</td>\n",
              "      <td>59361.0</td>\n",
              "    </tr>\n",
              "    <tr>\n",
              "      <th>2493</th>\n",
              "      <td>11123.0</td>\n",
              "      <td>learn and understand nodejs</td>\n",
              "      <td>0.73</td>\n",
              "      <td>58208.0</td>\n",
              "    </tr>\n",
              "    <tr>\n",
              "      <th>2476</th>\n",
              "      <td>8629.0</td>\n",
              "      <td>learn html5 programming from scratch</td>\n",
              "      <td>0.82</td>\n",
              "      <td>268923.0</td>\n",
              "    </tr>\n",
              "    <tr>\n",
              "      <th>2504</th>\n",
              "      <td>8341.0</td>\n",
              "      <td>angular 2 with typescript for beginners: the p...</td>\n",
              "      <td>0.74</td>\n",
              "      <td>40070.0</td>\n",
              "    </tr>\n",
              "    <tr>\n",
              "      <th>1797</th>\n",
              "      <td>7676.0</td>\n",
              "      <td>pianoforall - incredible new way to learn pian...</td>\n",
              "      <td>0.96</td>\n",
              "      <td>75499.0</td>\n",
              "    </tr>\n",
              "  </tbody>\n",
              "</table>\n",
              "</div>"
            ],
            "text/plain": [
              "      num_reviews                                       course_title  Rating  \\\n",
              "2478      27445.0                         the web developer bootcamp    0.89   \n",
              "2480      22412.0              the complete web developer course 2.0    0.55   \n",
              "2485      19649.0  angular 4 (formerly angular 2) - the complete ...    0.90   \n",
              "2484      16976.0          javascript: understanding the weird parts    0.69   \n",
              "2497      15117.0                            modern react with redux    0.62   \n",
              "2492      11580.0                     learn and understand angularjs    0.87   \n",
              "2493      11123.0                        learn and understand nodejs    0.73   \n",
              "2476       8629.0               learn html5 programming from scratch    0.82   \n",
              "2504       8341.0  angular 2 with typescript for beginners: the p...    0.74   \n",
              "1797       7676.0  pianoforall - incredible new way to learn pian...    0.96   \n",
              "\n",
              "      num_subscribers  \n",
              "2478         121584.0  \n",
              "2480         114512.0  \n",
              "2485          73783.0  \n",
              "2484          79612.0  \n",
              "2497          50815.0  \n",
              "2492          59361.0  \n",
              "2493          58208.0  \n",
              "2476         268923.0  \n",
              "2504          40070.0  \n",
              "1797          75499.0  "
            ]
          },
          "execution_count": 33,
          "metadata": {},
          "output_type": "execute_result"
        }
      ],
      "source": [
        "cursos.sort_values(\"num_reviews\", ascending=False).head(10)[[\"num_reviews\", \"course_title\", \"Rating\", \"num_subscribers\"]]\n"
      ]
    },
    {
      "cell_type": "markdown",
      "metadata": {
        "id": "r4bFZBMIpqlu"
      },
      "source": [
        "7. A partir dos dez cursos mais vistos, mostre: 1) qual tem o maior número de inscritos; 2) qual tem o maior **rate** (avaliação do curso)."
      ]
    },
    {
      "cell_type": "code",
      "execution_count": 80,
      "metadata": {
        "id": "TAjdWgV6qXuW"
      },
      "outputs": [
        {
          "data": {
            "text/plain": [
              "'learn html5 programming from scratch'"
            ]
          },
          "execution_count": 80,
          "metadata": {},
          "output_type": "execute_result"
        }
      ],
      "source": [
        "lista = cursos.sort_values('num_reviews', ascending=False).head(10)\n",
        "mais_inscritos = lista['num_subscribers'].idxmax()\n",
        "cursos['course_title'][mais_inscritos]"
      ]
    },
    {
      "cell_type": "code",
      "execution_count": 79,
      "metadata": {},
      "outputs": [
        {
          "data": {
            "text/plain": [
              "'pianoforall - incredible new way to learn piano & keyboard'"
            ]
          },
          "execution_count": 79,
          "metadata": {},
          "output_type": "execute_result"
        }
      ],
      "source": [
        "lista = cursos.sort_values('num_reviews', ascending=False).head(10)\n",
        "rate = lista['Rating'].idxmax()\n",
        "cursos['course_title'][rate]"
      ]
    },
    {
      "cell_type": "markdown",
      "metadata": {
        "id": "Gao_HBG1qZY9"
      },
      "source": [
        "8. Dos cursos listados na base de dados, qual tem maior duração em horas?"
      ]
    },
    {
      "cell_type": "code",
      "execution_count": 58,
      "metadata": {},
      "outputs": [
        {
          "data": {
            "text/html": [
              "<div>\n",
              "<style scoped>\n",
              "    .dataframe tbody tr th:only-of-type {\n",
              "        vertical-align: middle;\n",
              "    }\n",
              "\n",
              "    .dataframe tbody tr th {\n",
              "        vertical-align: top;\n",
              "    }\n",
              "\n",
              "    .dataframe thead th {\n",
              "        text-align: right;\n",
              "    }\n",
              "</style>\n",
              "<table border=\"1\" class=\"dataframe\">\n",
              "  <thead>\n",
              "    <tr style=\"text-align: right;\">\n",
              "      <th></th>\n",
              "      <th>course_id</th>\n",
              "      <th>course_title</th>\n",
              "      <th>url</th>\n",
              "      <th>price</th>\n",
              "      <th>num_subscribers</th>\n",
              "      <th>num_reviews</th>\n",
              "      <th>num_lectures</th>\n",
              "      <th>level</th>\n",
              "      <th>Rating</th>\n",
              "      <th>content_duration</th>\n",
              "      <th>published_timestamp</th>\n",
              "      <th>subject</th>\n",
              "    </tr>\n",
              "  </thead>\n",
              "  <tbody>\n",
              "    <tr>\n",
              "      <th>1358</th>\n",
              "      <td>978576.0</td>\n",
              "      <td>the complete figure drawing course hd</td>\n",
              "      <td>https://www.udemy.com/the-complete-figure-draw...</td>\n",
              "      <td>50.0</td>\n",
              "      <td>1323.0</td>\n",
              "      <td>136.0</td>\n",
              "      <td>225.0</td>\n",
              "      <td>Beginner Level</td>\n",
              "      <td>0.37</td>\n",
              "      <td>78.5</td>\n",
              "      <td>2016-10-11T21:40:06Z</td>\n",
              "      <td>Graphic Design</td>\n",
              "    </tr>\n",
              "    <tr>\n",
              "      <th>2742</th>\n",
              "      <td>548278.0</td>\n",
              "      <td>the complete web development course - build 15...</td>\n",
              "      <td>https://www.udemy.com/complete-web-development...</td>\n",
              "      <td>200.0</td>\n",
              "      <td>7501.0</td>\n",
              "      <td>1213.0</td>\n",
              "      <td>384.0</td>\n",
              "      <td>All Levels</td>\n",
              "      <td>0.42</td>\n",
              "      <td>76.5</td>\n",
              "      <td>2015-11-09T22:01:02Z</td>\n",
              "      <td>Subject: Web Development</td>\n",
              "    </tr>\n",
              "    <tr>\n",
              "      <th>253</th>\n",
              "      <td>375594.0</td>\n",
              "      <td>financial management - a complete study</td>\n",
              "      <td>https://www.udemy.com/financial-management-a-c...</td>\n",
              "      <td>190.0</td>\n",
              "      <td>1941.0</td>\n",
              "      <td>128.0</td>\n",
              "      <td>527.0</td>\n",
              "      <td>All Levels</td>\n",
              "      <td>0.89</td>\n",
              "      <td>71.5</td>\n",
              "      <td>2014-12-22T16:57:30Z</td>\n",
              "      <td>Business Finance</td>\n",
              "    </tr>\n",
              "    <tr>\n",
              "      <th>727</th>\n",
              "      <td>167316.0</td>\n",
              "      <td>trader bot: introdução à linguagem mql5</td>\n",
              "      <td>https://www.udemy.com/intro-mql5/</td>\n",
              "      <td>20.0</td>\n",
              "      <td>209.0</td>\n",
              "      <td>33.0</td>\n",
              "      <td>33.0</td>\n",
              "      <td>All Levels</td>\n",
              "      <td>0.66</td>\n",
              "      <td>70.0</td>\n",
              "      <td>2014-03-07T15:13:45Z</td>\n",
              "      <td>Business Finance</td>\n",
              "    </tr>\n",
              "    <tr>\n",
              "      <th>1203</th>\n",
              "      <td>62721.0</td>\n",
              "      <td>anatomy for figure drawing: mastering the huma...</td>\n",
              "      <td>https://www.udemy.com/anatomy-for-figure-drawi...</td>\n",
              "      <td>95.0</td>\n",
              "      <td>15500.0</td>\n",
              "      <td>754.0</td>\n",
              "      <td>65.0</td>\n",
              "      <td>Beginner Level</td>\n",
              "      <td>0.41</td>\n",
              "      <td>68.5</td>\n",
              "      <td>2013-10-16T11:37:30Z</td>\n",
              "      <td>Graphic Design</td>\n",
              "    </tr>\n",
              "  </tbody>\n",
              "</table>\n",
              "</div>"
            ],
            "text/plain": [
              "      course_id                                       course_title  \\\n",
              "1358   978576.0              the complete figure drawing course hd   \n",
              "2742   548278.0  the complete web development course - build 15...   \n",
              "253    375594.0            financial management - a complete study   \n",
              "727    167316.0            trader bot: introdução à linguagem mql5   \n",
              "1203    62721.0  anatomy for figure drawing: mastering the huma...   \n",
              "\n",
              "                                                    url  price  \\\n",
              "1358  https://www.udemy.com/the-complete-figure-draw...   50.0   \n",
              "2742  https://www.udemy.com/complete-web-development...  200.0   \n",
              "253   https://www.udemy.com/financial-management-a-c...  190.0   \n",
              "727                   https://www.udemy.com/intro-mql5/   20.0   \n",
              "1203  https://www.udemy.com/anatomy-for-figure-drawi...   95.0   \n",
              "\n",
              "      num_subscribers  num_reviews  num_lectures           level  Rating  \\\n",
              "1358           1323.0        136.0         225.0  Beginner Level    0.37   \n",
              "2742           7501.0       1213.0         384.0      All Levels    0.42   \n",
              "253            1941.0        128.0         527.0      All Levels    0.89   \n",
              "727             209.0         33.0          33.0      All Levels    0.66   \n",
              "1203          15500.0        754.0          65.0  Beginner Level    0.41   \n",
              "\n",
              "      content_duration   published_timestamp                   subject  \n",
              "1358              78.5  2016-10-11T21:40:06Z            Graphic Design  \n",
              "2742              76.5  2015-11-09T22:01:02Z  Subject: Web Development  \n",
              "253               71.5  2014-12-22T16:57:30Z          Business Finance  \n",
              "727               70.0  2014-03-07T15:13:45Z          Business Finance  \n",
              "1203              68.5  2013-10-16T11:37:30Z            Graphic Design  "
            ]
          },
          "execution_count": 58,
          "metadata": {},
          "output_type": "execute_result"
        }
      ],
      "source": [
        "cursos.sort_values(\"content_duration\", ascending=False).head(5)"
      ]
    },
    {
      "cell_type": "code",
      "execution_count": 50,
      "metadata": {
        "id": "MvSGEfH9qqQK"
      },
      "outputs": [
        {
          "data": {
            "text/plain": [
              "'the complete figure drawing course hd'"
            ]
          },
          "execution_count": 50,
          "metadata": {},
          "output_type": "execute_result"
        }
      ],
      "source": [
        "cursos['content_duration'].idxmax()"
      ]
    },
    {
      "cell_type": "code",
      "execution_count": 64,
      "metadata": {},
      "outputs": [
        {
          "data": {
            "text/plain": [
              "'the complete figure drawing course hd'"
            ]
          },
          "execution_count": 64,
          "metadata": {},
          "output_type": "execute_result"
        }
      ],
      "source": [
        "duracao = cursos['content_duration'].idxmax()\n",
        "cursos['course_title'][duracao]"
      ]
    },
    {
      "cell_type": "markdown",
      "metadata": {
        "id": "69Evu8BLqrS_"
      },
      "source": [
        "9. Dos cursos listados na base de dados, qual tem o maior número de aulas (*lectures*)?"
      ]
    },
    {
      "cell_type": "code",
      "execution_count": 81,
      "metadata": {},
      "outputs": [
        {
          "data": {
            "text/html": [
              "<div>\n",
              "<style scoped>\n",
              "    .dataframe tbody tr th:only-of-type {\n",
              "        vertical-align: middle;\n",
              "    }\n",
              "\n",
              "    .dataframe tbody tr th {\n",
              "        vertical-align: top;\n",
              "    }\n",
              "\n",
              "    .dataframe thead th {\n",
              "        text-align: right;\n",
              "    }\n",
              "</style>\n",
              "<table border=\"1\" class=\"dataframe\">\n",
              "  <thead>\n",
              "    <tr style=\"text-align: right;\">\n",
              "      <th></th>\n",
              "      <th>course_id</th>\n",
              "      <th>course_title</th>\n",
              "      <th>url</th>\n",
              "      <th>price</th>\n",
              "      <th>num_subscribers</th>\n",
              "      <th>num_reviews</th>\n",
              "      <th>num_lectures</th>\n",
              "      <th>level</th>\n",
              "      <th>Rating</th>\n",
              "      <th>content_duration</th>\n",
              "      <th>published_timestamp</th>\n",
              "      <th>subject</th>\n",
              "    </tr>\n",
              "  </thead>\n",
              "  <tbody>\n",
              "    <tr>\n",
              "      <th>2556</th>\n",
              "      <td>79154.0</td>\n",
              "      <td>back to school web development and programming...</td>\n",
              "      <td>https://www.udemy.com/back-to-school-web-devel...</td>\n",
              "      <td>200.0</td>\n",
              "      <td>18170.0</td>\n",
              "      <td>117.0</td>\n",
              "      <td>779.0</td>\n",
              "      <td>All Levels</td>\n",
              "      <td>0.40</td>\n",
              "      <td>44.5</td>\n",
              "      <td>2013-08-19T14:53:00Z</td>\n",
              "      <td>Subject: Web Development</td>\n",
              "    </tr>\n",
              "    <tr>\n",
              "      <th>254</th>\n",
              "      <td>543242.0</td>\n",
              "      <td>learn to trade the news</td>\n",
              "      <td>https://www.udemy.com/learn-to-trade-the-news/</td>\n",
              "      <td>200.0</td>\n",
              "      <td>1924.0</td>\n",
              "      <td>351.0</td>\n",
              "      <td>544.0</td>\n",
              "      <td>All Levels</td>\n",
              "      <td>0.30</td>\n",
              "      <td>46.5</td>\n",
              "      <td>2015-07-16T22:03:29Z</td>\n",
              "      <td>Business Finance</td>\n",
              "    </tr>\n",
              "    <tr>\n",
              "      <th>3474</th>\n",
              "      <td>978728.0</td>\n",
              "      <td>thoughtful web development course: html, vue.j...</td>\n",
              "      <td>https://www.udemy.com/web-development-html5-cs...</td>\n",
              "      <td>200.0</td>\n",
              "      <td>842.0</td>\n",
              "      <td>144.0</td>\n",
              "      <td>536.0</td>\n",
              "      <td>Beginner Level</td>\n",
              "      <td>0.80</td>\n",
              "      <td>25.0</td>\n",
              "      <td>2016-10-11T14:18:27Z</td>\n",
              "      <td>Subject: Web Development</td>\n",
              "    </tr>\n",
              "    <tr>\n",
              "      <th>253</th>\n",
              "      <td>375594.0</td>\n",
              "      <td>financial management - a complete study</td>\n",
              "      <td>https://www.udemy.com/financial-management-a-c...</td>\n",
              "      <td>190.0</td>\n",
              "      <td>1941.0</td>\n",
              "      <td>128.0</td>\n",
              "      <td>527.0</td>\n",
              "      <td>All Levels</td>\n",
              "      <td>0.89</td>\n",
              "      <td>71.5</td>\n",
              "      <td>2014-12-22T16:57:30Z</td>\n",
              "      <td>Business Finance</td>\n",
              "    </tr>\n",
              "    <tr>\n",
              "      <th>2757</th>\n",
              "      <td>481696.0</td>\n",
              "      <td>code &amp; grow rich: earn more as an entrepreneur...</td>\n",
              "      <td>https://www.udemy.com/code-grow-rich-earn-more...</td>\n",
              "      <td>200.0</td>\n",
              "      <td>7211.0</td>\n",
              "      <td>52.0</td>\n",
              "      <td>491.0</td>\n",
              "      <td>All Levels</td>\n",
              "      <td>0.29</td>\n",
              "      <td>57.0</td>\n",
              "      <td>2016-02-10T01:09:19Z</td>\n",
              "      <td>Subject: Web Development</td>\n",
              "    </tr>\n",
              "  </tbody>\n",
              "</table>\n",
              "</div>"
            ],
            "text/plain": [
              "      course_id                                       course_title  \\\n",
              "2556    79154.0  back to school web development and programming...   \n",
              "254    543242.0                            learn to trade the news   \n",
              "3474   978728.0  thoughtful web development course: html, vue.j...   \n",
              "253    375594.0            financial management - a complete study   \n",
              "2757   481696.0  code & grow rich: earn more as an entrepreneur...   \n",
              "\n",
              "                                                    url  price  \\\n",
              "2556  https://www.udemy.com/back-to-school-web-devel...  200.0   \n",
              "254      https://www.udemy.com/learn-to-trade-the-news/  200.0   \n",
              "3474  https://www.udemy.com/web-development-html5-cs...  200.0   \n",
              "253   https://www.udemy.com/financial-management-a-c...  190.0   \n",
              "2757  https://www.udemy.com/code-grow-rich-earn-more...  200.0   \n",
              "\n",
              "      num_subscribers  num_reviews  num_lectures           level  Rating  \\\n",
              "2556          18170.0        117.0         779.0      All Levels    0.40   \n",
              "254            1924.0        351.0         544.0      All Levels    0.30   \n",
              "3474            842.0        144.0         536.0  Beginner Level    0.80   \n",
              "253            1941.0        128.0         527.0      All Levels    0.89   \n",
              "2757           7211.0         52.0         491.0      All Levels    0.29   \n",
              "\n",
              "      content_duration   published_timestamp                   subject  \n",
              "2556              44.5  2013-08-19T14:53:00Z  Subject: Web Development  \n",
              "254               46.5  2015-07-16T22:03:29Z          Business Finance  \n",
              "3474              25.0  2016-10-11T14:18:27Z  Subject: Web Development  \n",
              "253               71.5  2014-12-22T16:57:30Z          Business Finance  \n",
              "2757              57.0  2016-02-10T01:09:19Z  Subject: Web Development  "
            ]
          },
          "execution_count": 81,
          "metadata": {},
          "output_type": "execute_result"
        }
      ],
      "source": [
        "cursos.sort_values(\"num_lectures\", ascending=False).head(5)"
      ]
    },
    {
      "cell_type": "code",
      "execution_count": 69,
      "metadata": {
        "id": "5uqzhyXmqge0"
      },
      "outputs": [
        {
          "data": {
            "text/plain": [
              "'back to school web development and programming bundle'"
            ]
          },
          "execution_count": 69,
          "metadata": {},
          "output_type": "execute_result"
        }
      ],
      "source": [
        "aulas = cursos[\"num_lectures\"].idxmax()\n",
        "cursos['course_title'][aulas]"
      ]
    },
    {
      "cell_type": "markdown",
      "metadata": {
        "id": "wVg9qj3WrD5h"
      },
      "source": [
        "10. Apresente o número (contagem) de cursos agrupados por nível (coluna *level*)."
      ]
    },
    {
      "cell_type": "code",
      "execution_count": 21,
      "metadata": {},
      "outputs": [
        {
          "data": {
            "text/html": [
              "<div>\n",
              "<style scoped>\n",
              "    .dataframe tbody tr th:only-of-type {\n",
              "        vertical-align: middle;\n",
              "    }\n",
              "\n",
              "    .dataframe tbody tr th {\n",
              "        vertical-align: top;\n",
              "    }\n",
              "\n",
              "    .dataframe thead th {\n",
              "        text-align: right;\n",
              "    }\n",
              "</style>\n",
              "<table border=\"1\" class=\"dataframe\">\n",
              "  <thead>\n",
              "    <tr style=\"text-align: right;\">\n",
              "      <th></th>\n",
              "      <th>course_id</th>\n",
              "      <th>course_title</th>\n",
              "      <th>url</th>\n",
              "      <th>price</th>\n",
              "      <th>num_subscribers</th>\n",
              "      <th>num_reviews</th>\n",
              "      <th>num_lectures</th>\n",
              "      <th>Rating</th>\n",
              "      <th>content_duration</th>\n",
              "      <th>published_timestamp</th>\n",
              "      <th>subject</th>\n",
              "    </tr>\n",
              "    <tr>\n",
              "      <th>level</th>\n",
              "      <th></th>\n",
              "      <th></th>\n",
              "      <th></th>\n",
              "      <th></th>\n",
              "      <th></th>\n",
              "      <th></th>\n",
              "      <th></th>\n",
              "      <th></th>\n",
              "      <th></th>\n",
              "      <th></th>\n",
              "      <th></th>\n",
              "    </tr>\n",
              "  </thead>\n",
              "  <tbody>\n",
              "    <tr>\n",
              "      <th>All Levels</th>\n",
              "      <td>1925</td>\n",
              "      <td>1925</td>\n",
              "      <td>1925</td>\n",
              "      <td>1925</td>\n",
              "      <td>1925</td>\n",
              "      <td>1925</td>\n",
              "      <td>1925</td>\n",
              "      <td>1925</td>\n",
              "      <td>1925</td>\n",
              "      <td>1925</td>\n",
              "      <td>1925</td>\n",
              "    </tr>\n",
              "    <tr>\n",
              "      <th>Beginner Level</th>\n",
              "      <td>1271</td>\n",
              "      <td>1271</td>\n",
              "      <td>1271</td>\n",
              "      <td>1271</td>\n",
              "      <td>1271</td>\n",
              "      <td>1271</td>\n",
              "      <td>1271</td>\n",
              "      <td>1271</td>\n",
              "      <td>1271</td>\n",
              "      <td>1271</td>\n",
              "      <td>1271</td>\n",
              "    </tr>\n",
              "    <tr>\n",
              "      <th>Expert Level</th>\n",
              "      <td>58</td>\n",
              "      <td>58</td>\n",
              "      <td>58</td>\n",
              "      <td>58</td>\n",
              "      <td>58</td>\n",
              "      <td>58</td>\n",
              "      <td>58</td>\n",
              "      <td>58</td>\n",
              "      <td>58</td>\n",
              "      <td>58</td>\n",
              "      <td>58</td>\n",
              "    </tr>\n",
              "    <tr>\n",
              "      <th>Intermediate Level</th>\n",
              "      <td>422</td>\n",
              "      <td>422</td>\n",
              "      <td>422</td>\n",
              "      <td>422</td>\n",
              "      <td>422</td>\n",
              "      <td>422</td>\n",
              "      <td>422</td>\n",
              "      <td>422</td>\n",
              "      <td>422</td>\n",
              "      <td>422</td>\n",
              "      <td>422</td>\n",
              "    </tr>\n",
              "  </tbody>\n",
              "</table>\n",
              "</div>"
            ],
            "text/plain": [
              "                    course_id  course_title   url  price  num_subscribers  \\\n",
              "level                                                                       \n",
              "All Levels               1925          1925  1925   1925             1925   \n",
              "Beginner Level           1271          1271  1271   1271             1271   \n",
              "Expert Level               58            58    58     58               58   \n",
              "Intermediate Level        422           422   422    422              422   \n",
              "\n",
              "                    num_reviews  num_lectures  Rating  content_duration  \\\n",
              "level                                                                     \n",
              "All Levels                 1925          1925    1925              1925   \n",
              "Beginner Level             1271          1271    1271              1271   \n",
              "Expert Level                 58            58      58                58   \n",
              "Intermediate Level          422           422     422               422   \n",
              "\n",
              "                    published_timestamp  subject  \n",
              "level                                             \n",
              "All Levels                         1925     1925  \n",
              "Beginner Level                     1271     1271  \n",
              "Expert Level                         58       58  \n",
              "Intermediate Level                  422      422  "
            ]
          },
          "execution_count": 21,
          "metadata": {},
          "output_type": "execute_result"
        }
      ],
      "source": [
        "cursos.groupby(\"level\").count()"
      ]
    },
    {
      "cell_type": "code",
      "execution_count": 20,
      "metadata": {
        "id": "7KyIy5m3rSoI"
      },
      "outputs": [
        {
          "data": {
            "text/plain": [
              "level\n",
              "All Levels            1925\n",
              "Beginner Level        1271\n",
              "Expert Level            58\n",
              "Intermediate Level     422\n",
              "Name: course_id, dtype: int64"
            ]
          },
          "execution_count": 20,
          "metadata": {},
          "output_type": "execute_result"
        }
      ],
      "source": [
        "cursos.groupby('level')['course_id'].count()"
      ]
    },
    {
      "cell_type": "markdown",
      "metadata": {
        "id": "xPzjlE_crTJY"
      },
      "source": [
        "11. Quais são os cursos mais recentes contidos na base de dados?"
      ]
    },
    {
      "cell_type": "code",
      "execution_count": 19,
      "metadata": {
        "id": "nK_H8JxYrYWZ"
      },
      "outputs": [
        {
          "data": {
            "text/html": [
              "<div>\n",
              "<style scoped>\n",
              "    .dataframe tbody tr th:only-of-type {\n",
              "        vertical-align: middle;\n",
              "    }\n",
              "\n",
              "    .dataframe tbody tr th {\n",
              "        vertical-align: top;\n",
              "    }\n",
              "\n",
              "    .dataframe thead th {\n",
              "        text-align: right;\n",
              "    }\n",
              "</style>\n",
              "<table border=\"1\" class=\"dataframe\">\n",
              "  <thead>\n",
              "    <tr style=\"text-align: right;\">\n",
              "      <th></th>\n",
              "      <th>course_title</th>\n",
              "      <th>published_timestamp</th>\n",
              "    </tr>\n",
              "  </thead>\n",
              "  <tbody>\n",
              "    <tr>\n",
              "      <th>1183</th>\n",
              "      <td>cryptocurrency (btc &amp; eth) investment &amp; tradin...</td>\n",
              "      <td>2017-07-06T21:46:30Z</td>\n",
              "    </tr>\n",
              "    <tr>\n",
              "      <th>1164</th>\n",
              "      <td>forex how traders beat the markest with little...</td>\n",
              "      <td>2017-07-06T21:16:13Z</td>\n",
              "    </tr>\n",
              "    <tr>\n",
              "      <th>1027</th>\n",
              "      <td>condor broken wing butterfly options trading c...</td>\n",
              "      <td>2017-07-06T19:47:16Z</td>\n",
              "    </tr>\n",
              "    <tr>\n",
              "      <th>2465</th>\n",
              "      <td>abrsm grade iii piano class - handel sonatina ...</td>\n",
              "      <td>2017-07-06T16:12:34Z</td>\n",
              "    </tr>\n",
              "    <tr>\n",
              "      <th>3677</th>\n",
              "      <td>angular 4 front to back</td>\n",
              "      <td>2017-07-06T15:04:55Z</td>\n",
              "    </tr>\n",
              "    <tr>\n",
              "      <th>1504</th>\n",
              "      <td>photoshop isn't like what you imagine a to z .</td>\n",
              "      <td>2017-07-06T03:32:48Z</td>\n",
              "    </tr>\n",
              "    <tr>\n",
              "      <th>1166</th>\n",
              "      <td>practical film financing: finding &amp; pitching i...</td>\n",
              "      <td>2017-07-05T21:46:55Z</td>\n",
              "    </tr>\n",
              "    <tr>\n",
              "      <th>1142</th>\n",
              "      <td>bitcoin &amp; ethereum course (2 course bundle)</td>\n",
              "      <td>2017-07-05T19:06:26Z</td>\n",
              "    </tr>\n",
              "    <tr>\n",
              "      <th>2475</th>\n",
              "      <td>4 week rhythm mastery</td>\n",
              "      <td>2017-07-05T16:07:44Z</td>\n",
              "    </tr>\n",
              "    <tr>\n",
              "      <th>1156</th>\n",
              "      <td>options trading foundation: your journey to co...</td>\n",
              "      <td>2017-07-05T04:41:54Z</td>\n",
              "    </tr>\n",
              "  </tbody>\n",
              "</table>\n",
              "</div>"
            ],
            "text/plain": [
              "                                           course_title   published_timestamp\n",
              "1183  cryptocurrency (btc & eth) investment & tradin...  2017-07-06T21:46:30Z\n",
              "1164  forex how traders beat the markest with little...  2017-07-06T21:16:13Z\n",
              "1027  condor broken wing butterfly options trading c...  2017-07-06T19:47:16Z\n",
              "2465  abrsm grade iii piano class - handel sonatina ...  2017-07-06T16:12:34Z\n",
              "3677                            angular 4 front to back  2017-07-06T15:04:55Z\n",
              "1504     photoshop isn't like what you imagine a to z .  2017-07-06T03:32:48Z\n",
              "1166  practical film financing: finding & pitching i...  2017-07-05T21:46:55Z\n",
              "1142        bitcoin & ethereum course (2 course bundle)  2017-07-05T19:06:26Z\n",
              "2475                              4 week rhythm mastery  2017-07-05T16:07:44Z\n",
              "1156  options trading foundation: your journey to co...  2017-07-05T04:41:54Z"
            ]
          },
          "execution_count": 19,
          "metadata": {},
          "output_type": "execute_result"
        }
      ],
      "source": [
        "cursos.sort_values('published_timestamp', ascending=False).head(10)[['course_title','published_timestamp']]"
      ]
    },
    {
      "cell_type": "markdown",
      "metadata": {
        "id": "cwzez2xhsYLa"
      },
      "source": [
        "12. Apresente o número (contagem) de cursos agrupados por nível (coluna *level*) e por assunto (coluna *subject*)."
      ]
    },
    {
      "cell_type": "code",
      "execution_count": 16,
      "metadata": {
        "id": "7BXn9iPmsoCm"
      },
      "outputs": [
        {
          "data": {
            "text/plain": [
              "level               subject                 \n",
              "All Levels          Business Finance            633\n",
              "                    Graphic Design              335\n",
              "                    Musical Instruments         324\n",
              "                    Subject: Web Development    633\n",
              "Beginner Level      Business Finance            399\n",
              "                    Graphic Design              184\n",
              "                    Musical Instruments         266\n",
              "                    Subject: Web Development    422\n",
              "Expert Level        Business Finance             25\n",
              "                    Graphic Design                7\n",
              "                    Musical Instruments          12\n",
              "                    Subject: Web Development     14\n",
              "Intermediate Level  Business Finance            134\n",
              "                    Graphic Design               76\n",
              "                    Musical Instruments          78\n",
              "                    Subject: Web Development    134\n",
              "Name: course_id, dtype: int64"
            ]
          },
          "execution_count": 16,
          "metadata": {},
          "output_type": "execute_result"
        }
      ],
      "source": [
        "cursos.groupby(['level', 'subject'])['course_id'].count()"
      ]
    },
    {
      "cell_type": "markdown",
      "metadata": {
        "id": "UoU_pvOUutMo"
      },
      "source": [
        "13. Disponibilize suas análises em um repositório do Github e compartilhe o link abaixo."
      ]
    },
    {
      "cell_type": "code",
      "execution_count": null,
      "metadata": {
        "id": "NjNInZBBu3Rl"
      },
      "outputs": [],
      "source": [
        "# https://github.com/AntoniaCristinaCosta/Projeto_final"
      ]
    },
    {
      "cell_type": "markdown",
      "metadata": {
        "id": "CPKWugdJvXQf"
      },
      "source": [
        "14. Crie uma conta no <a href=\"https://www.kaggle.com/datasets/thedevastator/udemy-courses-revenue-generation-and-course-anal\">Kaggle</a> e crie um Notebook com as análises feitas neste projeto. A ideia aqui, é que você comece a criar um portfólio de análise de dados na plataforma :)"
      ]
    },
    {
      "cell_type": "code",
      "execution_count": null,
      "metadata": {},
      "outputs": [],
      "source": [
        "#https://www.kaggle.com/antoniacristina/projeto-analise-de-dados"
      ]
    }
  ],
  "metadata": {
    "colab": {
      "collapsed_sections": [],
      "provenance": []
    },
    "kernelspec": {
      "display_name": "Python 3.10.8 64-bit (microsoft store)",
      "language": "python",
      "name": "python3"
    },
    "language_info": {
      "codemirror_mode": {
        "name": "ipython",
        "version": 3
      },
      "file_extension": ".py",
      "mimetype": "text/x-python",
      "name": "python",
      "nbconvert_exporter": "python",
      "pygments_lexer": "ipython3",
      "version": "3.10.8"
    },
    "vscode": {
      "interpreter": {
        "hash": "b4dbd1ca9641291fa86f6d1b53461b9ab134183af3aeffba7976d51a20869860"
      }
    }
  },
  "nbformat": 4,
  "nbformat_minor": 0
}
